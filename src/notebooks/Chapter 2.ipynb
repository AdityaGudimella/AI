{
 "cells": [
  {
   "cell_type": "code",
   "execution_count": 1,
   "metadata": {
    "collapsed": true
   },
   "outputs": [],
   "source": [
    "from collections import namedtuple, defaultdict\n",
    "import numpy as np\n",
    "import pandas as pd\n",
    "\n",
    "from attrdict import AttrDict"
   ]
  },
  {
   "cell_type": "code",
   "execution_count": 2,
   "metadata": {
    "collapsed": true
   },
   "outputs": [],
   "source": [
    "class Distribution:\n",
    "    def __init__(self):\n",
    "        self._parameters = None\n",
    "        \n",
    "    @property\n",
    "    def parameters(self):\n",
    "        raise NotImplementedError\n",
    "        \n",
    "    def sample(self):\n",
    "        raise NotImplementedError"
   ]
  },
  {
   "cell_type": "code",
   "execution_count": 3,
   "metadata": {
    "collapsed": true
   },
   "outputs": [],
   "source": [
    "class NormalDistribution(Distribution):\n",
    "    def __init__(self, mean=0, variance=1):\n",
    "        self._parameters = AttrDict(mean=mean, variance=variance)\n",
    "        \n",
    "    @property\n",
    "    def parameters(self):\n",
    "        return self._parameters.copy()\n",
    "    \n",
    "    def sample(self):\n",
    "        return np.random.normal(loc=selr.parameters.mean, scale=np.sqrt(self.parameters.variance))"
   ]
  },
  {
   "cell_type": "code",
   "execution_count": 4,
   "metadata": {
    "collapsed": true
   },
   "outputs": [],
   "source": [
    "class Bandit:\n",
    "    def __init__(self, n_arms):\n",
    "        self.n_arms = n_arms\n",
    "        self.distribution = NormalDistribution(mean=0, variance=1)\n",
    "        \n",
    "    def step(self):\n",
    "        return AttrDict(obs=None, rew=self.distribution.sample(), done=False, info={})"
   ]
  },
  {
   "cell_type": "code",
   "execution_count": 5,
   "metadata": {
    "collapsed": true
   },
   "outputs": [],
   "source": [
    "class Policy:\n",
    "    def __init__(self, state_space, action_space):\n",
    "        self.state_space=state_space\n",
    "        self.action_space=action_space\n",
    "        \n",
    "        self._q_estimate = None\n",
    "        self._value_estimate = None\n",
    "        self._advantage_estimate = None\n",
    "    \n",
    "    @property\n",
    "    def q_estimate(self, state, action) -> pd.DataFrame:\n",
    "        # Do NOT subclass unless you know what you're doing!\n",
    "        if self.state_space is None:\n",
    "            assert isinstance(self._q_estimate, pd.Series)\n",
    "        else:\n",
    "            assert isinstance(self._q_estimate, pd.DataFrame)\n",
    "        return self._q_estimate\n",
    "    \n",
    "    @property\n",
    "    def value_estimate(self, state) -> pd.Series:\n",
    "        # Do NOT subclass unless you know what you're doing!\n",
    "        assert isinstance(self._value_estimate, pd.Series)\n",
    "        return self._value_estimate\n",
    "    \n",
    "    @property\n",
    "    def advantage_estimate(self, state, action) -> pd.DataFrame:\n",
    "        # Do NOT subclass unless you know what you're doing!\n",
    "        assert isinstance(self._advantage_estimate, pd.DataFrame)\n",
    "        return self._advantage_estimate\n",
    "    \n",
    "    def update_q_estimate(self, state, action, value):\n",
    "        assert state in self.state_space\n",
    "        assert action in self.action_space\n",
    "        self._q_estimate.set_value(state, action, value)\n",
    "        \n",
    "    def act(self):\n",
    "        raise NotImplementedError"
   ]
  },
  {
   "cell_type": "code",
   "execution_count": 6,
   "metadata": {
    "collapsed": true
   },
   "outputs": [],
   "source": [
    "class SampleAveragingPolicy(Policy):\n",
    "    def __init__(self, *args, **kwargs):\n",
    "        super().__init__(*args, **kwargs)\n",
    "        self.reward_history = defaultdict(list)\n",
    "        if self.state_space is None:\n",
    "            self._q_estimate = pd.Series(data=np.zeros(shape=len(self.action_space)), index=list(self.action_space))\n",
    "        else:\n",
    "            self._q_estimate = pd.DataFrame(data=np.zeros(shape=(len(self.state_space), len(self.action_space))), \n",
    "                                            index=list(self.state_space), \n",
    "                                            columns=list(self.action_space))\n",
    "\n",
    "    def update_q_estimate(self, state, action, reward):\n",
    "        self.reward_history[action].append(reward)\n",
    "        super().update_q_estimate(state, action, np.mean(self.reward_history[action]))"
   ]
  },
  {
   "cell_type": "code",
   "execution_count": 7,
   "metadata": {
    "collapsed": true
   },
   "outputs": [],
   "source": [
    "class GreedyPolicy(SampleAveragingPolicy, Policy):\n",
    "    def act(self, state):\n",
    "        # Choose the action that has the highest estimated reward\n",
    "        if self.state_space is None:\n",
    "            return self.q_estimate.idxmax()\n",
    "        return self.q_estimate[state].idxmax()"
   ]
  },
  {
   "cell_type": "code",
   "execution_count": 8,
   "metadata": {
    "collapsed": true
   },
   "outputs": [],
   "source": [
    "class Agent:\n",
    "    def __init__(self, env, policy, horizon):\n",
    "        self.env = env\n",
    "        self.policy = policy\n",
    "        self.horizon = horizon\n",
    "        \n",
    "    def train(self):\n",
    "        init_state = self.env.reset()\n",
    "        for step in self.horizon:\n",
    "            action = self.policy.act(init_state)\n",
    "            new_state, rew, _, _ = env.step(action)\n",
    "            self.policy.update(init_state, action, new_state, reward)"
   ]
  },
  {
   "cell_type": "code",
   "execution_count": null,
   "metadata": {
    "collapsed": true
   },
   "outputs": [],
   "source": []
  },
  {
   "cell_type": "markdown",
   "metadata": {},
   "source": [
    "# Test"
   ]
  },
  {
   "cell_type": "code",
   "execution_count": 9,
   "metadata": {
    "collapsed": true
   },
   "outputs": [],
   "source": [
    "bandit = Bandit(10)"
   ]
  },
  {
   "cell_type": "code",
   "execution_count": 11,
   "metadata": {
    "collapsed": false
   },
   "outputs": [],
   "source": [
    "greedy_policy = GreedyPolicy(state_space=None, action_space=np.arange(9))"
   ]
  },
  {
   "cell_type": "code",
   "execution_count": 13,
   "metadata": {
    "collapsed": false
   },
   "outputs": [
    {
     "ename": "TypeError",
     "evalue": "q_estimate() missing 2 required positional arguments: 'state' and 'action'",
     "output_type": "error",
     "traceback": [
      "\u001b[0;31m---------------------------------------------------------------------------\u001b[0m",
      "\u001b[0;31mTypeError\u001b[0m                                 Traceback (most recent call last)",
      "\u001b[0;32m<ipython-input-13-d99123230da5>\u001b[0m in \u001b[0;36m<module>\u001b[0;34m()\u001b[0m\n\u001b[0;32m----> 1\u001b[0;31m \u001b[0mgreedy_policy\u001b[0m\u001b[0;34m.\u001b[0m\u001b[0mq_estimate\u001b[0m\u001b[0;34m\u001b[0m\u001b[0m\n\u001b[0m",
      "\u001b[0;31mTypeError\u001b[0m: q_estimate() missing 2 required positional arguments: 'state' and 'action'"
     ]
    }
   ],
   "source": [
    "greedy_policy.q_estimate"
   ]
  },
  {
   "cell_type": "code",
   "execution_count": null,
   "metadata": {
    "collapsed": true
   },
   "outputs": [],
   "source": []
  }
 ],
 "metadata": {
  "kernelspec": {
   "display_name": "Python 3",
   "language": "python",
   "name": "python3"
  },
  "language_info": {
   "codemirror_mode": {
    "name": "ipython",
    "version": 3
   },
   "file_extension": ".py",
   "mimetype": "text/x-python",
   "name": "python",
   "nbconvert_exporter": "python",
   "pygments_lexer": "ipython3",
   "version": "3.6.0"
  },
  "varInspector": {
   "cols": {
    "lenName": 16,
    "lenType": 16,
    "lenVar": 40
   },
   "kernels_config": {
    "python": {
     "delete_cmd_postfix": "",
     "delete_cmd_prefix": "del ",
     "library": "var_list.py",
     "varRefreshCmd": "print(var_dic_list())"
    },
    "r": {
     "delete_cmd_postfix": ") ",
     "delete_cmd_prefix": "rm(",
     "library": "var_list.r",
     "varRefreshCmd": "cat(var_dic_list()) "
    }
   },
   "types_to_exclude": [
    "module",
    "function",
    "builtin_function_or_method",
    "instance",
    "_Feature"
   ],
   "window_display": false
  }
 },
 "nbformat": 4,
 "nbformat_minor": 2
}
